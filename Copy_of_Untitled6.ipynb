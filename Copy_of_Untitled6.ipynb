{
  "nbformat": 4,
  "nbformat_minor": 0,
  "metadata": {
    "colab": {
      "name": "Copy of Untitled6.ipynb",
      "version": "0.3.2",
      "provenance": [],
      "include_colab_link": true
    },
    "kernelspec": {
      "name": "python3",
      "display_name": "Python 3"
    }
  },
  "cells": [
    {
      "cell_type": "markdown",
      "metadata": {
        "id": "view-in-github",
        "colab_type": "text"
      },
      "source": [
        "<a href=\"https://colab.research.google.com/github/Klaimohelmi/kaggle-api/blob/master/Copy_of_Untitled6.ipynb\" target=\"_parent\"><img src=\"https://colab.research.google.com/assets/colab-badge.svg\" alt=\"Open In Colab\"/></a>"
      ]
    },
    {
      "cell_type": "code",
      "metadata": {
        "id": "S_kUKvWKU224",
        "colab_type": "code",
        "outputId": "28eaadd2-7317-41c3-a9f1-335488e528d6",
        "colab": {
          "base_uri": "https://localhost:8080/",
          "height": 71
        }
      },
      "source": [
        "import pyfpgrowth\n",
        "transactions = [[1, 2, 5],\n",
        "                [2, 4],\n",
        "                [2, 3],\n",
        "                [1, 2, 4],\n",
        "                [1, 3],\n",
        "                [2, 3],\n",
        "                [1, 3],\n",
        "                [1, 2, 3, 5],\n",
        "                [1, 2, 3]]\n",
        "patterns = pyfpgrowth.find_frequent_patterns(transactions, 2)\n",
        "print(\"patterns with frequence >2\",patterns)\n",
        "rules = pyfpgrowth.generate_association_rules(patterns, 0.7)\n",
        "print(\"features which occur togother with pourcentage >70%\",rules)\n",
        "import sys\n",
        "sys.setrecursionlimit(288)"
      ],
      "execution_count": 1,
      "outputs": [
        {
          "output_type": "stream",
          "text": [
            "patterns with frequence >2 {(5,): 2, (1, 5): 2, (2, 5): 2, (1, 2, 5): 2, (4,): 2, (2, 4): 2, (1,): 6, (1, 2): 4, (2, 3): 4, (1, 2, 3): 2, (1, 3): 4, (2,): 7}\n",
            "features which occur togother with pourcentage >70% {(5,): ((1, 2), 1.0), (1, 5): ((2,), 1.0), (2, 5): ((1,), 1.0), (4,): ((2,), 1.0)}\n"
          ],
          "name": "stdout"
        }
      ]
    }
  ]
}